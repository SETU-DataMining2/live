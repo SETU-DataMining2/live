{
 "cells": [
  {
   "cell_type": "markdown",
   "id": "3db78e0e-d947-493f-9bea-7b486935171e",
   "metadata": {},
   "source": [
    "# US Churn &mdash; Baseline Model"
   ]
  },
  {
   "cell_type": "markdown",
   "id": "0222c66a-98d8-4a52-ac9c-dae2f225dd30",
   "metadata": {},
   "source": [
    "## Setup"
   ]
  },
  {
   "cell_type": "code",
   "execution_count": null,
   "id": "59fdd448-0bbf-472a-8913-b83b4c609aee",
   "metadata": {},
   "outputs": [],
   "source": [
    "import pandas as pd\n",
    "import numpy as np\n",
    "import matplotlib.pyplot as plt\n",
    "import seaborn as sns\n",
    "\n",
    "from IPython.display import display, Markdown\n",
    "sns.set_style(\"darkgrid\")\n",
    "pd.set_option('display.max_columns', None)  \n",
    "\n",
    "import sys, os, yaml\n",
    "\n",
    "DATASET = \"US_Churn\"\n",
    "\n",
    "ROOT = \"./\"\n",
    "COLAB = 'google.colab' in sys.modules\n",
    "if COLAB:\n",
    "    ROOT = f\"/content/gdrive/MyDrive/datasets/{DATASET.replace(' ','_')}/\"\n",
    "\n",
    "DEBUG = False\n",
    "SEED = 1612"
   ]
  },
  {
   "cell_type": "code",
   "execution_count": null,
   "id": "87839222-09c8-42ac-951b-b31483bb094a",
   "metadata": {},
   "outputs": [],
   "source": [
    "if COLAB:\n",
    "    from google.colab import drive\n",
    "    if not os.path.isdir(\"/content/gdrive\"):\n",
    "        drive.mount(\"/content/gdrive\")"
   ]
  },
  {
   "cell_type": "markdown",
   "id": "d0c2e643-62f3-4e2f-a124-766ccdf4df0c",
   "metadata": {},
   "source": [
    "## Imports"
   ]
  },
  {
   "cell_type": "code",
   "execution_count": null,
   "id": "ea0a3002-1778-484b-84a8-c3ae5d02ddda",
   "metadata": {},
   "outputs": [],
   "source": [
    "from sklearn.model_selection import train_test_split\n",
    "\n",
    "from sklearn.preprocessing import StandardScaler\n",
    "\n",
    "from sklearn.linear_model import LogisticRegression\n",
    "from sklearn.tree import DecisionTreeClassifier\n",
    "from sklearn.neural_network import MLPClassifier\n",
    "from sklearn.neighbors import KNeighborsClassifier\n",
    "from sklearn.svm import SVC\n",
    "from sklearn.gaussian_process import GaussianProcessClassifier\n",
    "from sklearn.gaussian_process.kernels import RBF\n",
    "from sklearn.tree import DecisionTreeClassifier\n",
    "from sklearn.ensemble import RandomForestClassifier, AdaBoostClassifier\n",
    "from sklearn.naive_bayes import GaussianNB\n",
    "from sklearn.discriminant_analysis import QuadraticDiscriminantAnalysis\n",
    "\n",
    "from sklearn.model_selection import cross_val_score\n",
    "from sklearn.metrics import confusion_matrix, classification_report"
   ]
  },
  {
   "cell_type": "markdown",
   "id": "816f946c-5174-42a0-9e15-ac65beec63e5",
   "metadata": {},
   "source": [
    "## Datasets"
   ]
  },
  {
   "cell_type": "code",
   "execution_count": null,
   "id": "1fc44b89-28c8-44da-9268-e29ba3363c96",
   "metadata": {},
   "outputs": [],
   "source": [
    "df = pd.read_feather(f\"{ROOT}/data/churn.feather\")\n",
    "print(df.shape)\n",
    "df.head()"
   ]
  },
  {
   "cell_type": "code",
   "execution_count": null,
   "id": "22c29506-bb73-461f-b78e-d2541b99e735",
   "metadata": {},
   "outputs": [],
   "source": [
    "# drop feature that I have not yet considered properly in EDA\n",
    "for c in [\"State\"]:\n",
    "    if c in df.columns: df.drop(c, axis='columns', inplace=True)"
   ]
  },
  {
   "cell_type": "markdown",
   "id": "9f2ace58-5777-437c-9e7a-6adb99c9d5b0",
   "metadata": {
    "tags": []
   },
   "source": [
    "## Pre-process Data"
   ]
  },
  {
   "cell_type": "code",
   "execution_count": null,
   "id": "ca75f3be-3715-4868-96e3-0052eadca0a2",
   "metadata": {
    "tags": []
   },
   "outputs": [],
   "source": [
    "df_train, df_test = train_test_split(df, stratify=df.Churn, train_size=0.60, random_state=SEED)\n",
    "df_train.shape, df_test.shape"
   ]
  },
  {
   "cell_type": "code",
   "execution_count": null,
   "id": "0fd28ea0-b1ad-4fba-b647-e47c4bda6dc4",
   "metadata": {},
   "outputs": [],
   "source": [
    "target = \"Churn\"\n",
    "cat_features = [c for c in df.select_dtypes(\"category\").columns if c not in target]\n",
    "num_features = [c for c in df.select_dtypes([\"int\",\"float\"]).columns if c not in target]\n",
    "features = cat_features + num_features\n",
    "\n",
    "print(f\"Target: {target}\")\n",
    "\n",
    "print(f\"Categorical Features: {cat_features}\")\n",
    "print(f\"Numerical Features: {num_features}\")"
   ]
  },
  {
   "cell_type": "code",
   "execution_count": null,
   "id": "cc56bb53-c61a-4df4-bc2f-524a63eb5f74",
   "metadata": {},
   "outputs": [],
   "source": [
    "ss = StandardScaler()\n",
    "\n",
    "X_train = ss.fit_transform(df_train[features])\n",
    "y_train = df_train[target].values\n",
    "\n",
    "X_test = ss.transform(df_test[features])\n",
    "y_test = df_test[target].values"
   ]
  },
  {
   "cell_type": "markdown",
   "id": "cd241312-9e0f-45df-a0b8-29528ce745d4",
   "metadata": {},
   "source": [
    "### Dummy model - predict no churn\n",
    "\n",
    " * Since 85% do not churn a model that always predicts target=0 will have accuracy of 85%"
   ]
  },
  {
   "cell_type": "code",
   "execution_count": null,
   "id": "0abc74bd-f54e-4ae9-a14c-1d6b21d5fee3",
   "metadata": {},
   "outputs": [],
   "source": [
    "df.Churn.value_counts(normalize=True)"
   ]
  },
  {
   "cell_type": "code",
   "execution_count": null,
   "id": "b77865a2-d1be-4dd6-923d-12071fb96c2d",
   "metadata": {},
   "outputs": [],
   "source": [
    "# always predict 0 (no churn)\n",
    "y_dummy_pred = np.zeros_like(y_train)\n",
    "\n",
    "# accuracy is a bad metric to use - as dataset is imbalanced\n",
    "print(confusion_matrix(y_train, y_dummy_pred))\n",
    "print(classification_report(y_train, y_dummy_pred, zero_division=False))"
   ]
  },
  {
   "cell_type": "code",
   "execution_count": null,
   "id": "7cd352c6-e61c-43d8-a2d7-48ed15452b72",
   "metadata": {},
   "outputs": [],
   "source": [
    "model = LogisticRegression()"
   ]
  },
  {
   "cell_type": "code",
   "execution_count": null,
   "id": "901c9f4f-749a-42d0-b25f-50819453db85",
   "metadata": {},
   "outputs": [],
   "source": [
    "# how well does model work on data it saw during training - overestimate how good the model is\n",
    "model.fit(X_train, y_train)\n",
    "y_pred = model.predict(X_train)\n",
    "print(confusion_matrix(y_train, y_pred))\n",
    "print(classification_report(y_train, y_pred))"
   ]
  },
  {
   "cell_type": "markdown",
   "id": "0a6cdcd1-ba65-44e9-b03c-fc075ab8834a",
   "metadata": {},
   "source": [
    "## Model Selection"
   ]
  },
  {
   "cell_type": "code",
   "execution_count": null,
   "id": "fd45ab24-aa5b-4a9c-9afa-2ee79ccc7189",
   "metadata": {},
   "outputs": [],
   "source": [
    "models = {\n",
    "    \"NB\": GaussianNB(),\n",
    "    \"LR\": LogisticRegression(),\n",
    "    \"DT\": DecisionTreeClassifier(),\n",
    "    \"DT(max_depth=3)\": DecisionTreeClassifier(max_depth=3),\n",
    "    \"KNN\": KNeighborsClassifier(),\n",
    "    \"SVC\": SVC(),\n",
    "}"
   ]
  },
  {
   "cell_type": "code",
   "execution_count": null,
   "id": "ccd2f216-6ae3-424e-9a60-d7ab6361ab3c",
   "metadata": {},
   "outputs": [],
   "source": [
    "for name,model in models.items():\n",
    "    scores = cross_val_score(model, X_train, y_train, cv=10)\n",
    "    print(f\"{name:20s} accuracy = {scores.mean():.3%} ± {scores.std():.3%}\")"
   ]
  },
  {
   "cell_type": "code",
   "execution_count": null,
   "id": "f7ea4913-8a1a-45d8-a6d0-646f748ac7bd",
   "metadata": {},
   "outputs": [],
   "source": []
  }
 ],
 "metadata": {
  "kernelspec": {
   "display_name": "Python 3 (ipykernel)",
   "language": "python",
   "name": "python3"
  },
  "language_info": {
   "codemirror_mode": {
    "name": "ipython",
    "version": 3
   },
   "file_extension": ".py",
   "mimetype": "text/x-python",
   "name": "python",
   "nbconvert_exporter": "python",
   "pygments_lexer": "ipython3",
   "version": "3.11.7"
  },
  "widgets": {
   "application/vnd.jupyter.widget-state+json": {
    "state": {},
    "version_major": 2,
    "version_minor": 0
   }
  }
 },
 "nbformat": 4,
 "nbformat_minor": 5
}
