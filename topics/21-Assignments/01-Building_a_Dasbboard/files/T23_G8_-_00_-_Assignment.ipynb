{
 "cells": [
  {
   "cell_type": "markdown",
   "metadata": {},
   "source": [
    "# T23_G8 - 00 - Assignment\n",
    "\n",
    "* Create assignment tree. \n",
    "* Download the required datafiles and documentation.\n",
    "* Generate a zip file of your assignment files to upload to Moodle.\n",
    "\n",
    "There is no need to edit this notebook, you should just run all cells to setup assignment tree at start and again at end to generate the archive to upload to [Moodle](https://moodle.wit.ie/mod/assign/view.php?id=4469268) when done."
   ]
  },
  {
   "cell_type": "markdown",
   "metadata": {},
   "source": [
    "## Setup"
   ]
  },
  {
   "cell_type": "code",
   "execution_count": 44,
   "metadata": {},
   "outputs": [],
   "source": [
    "import os\n",
    "import glob\n",
    "from zipfile import ZipFile"
   ]
  },
  {
   "cell_type": "markdown",
   "metadata": {},
   "source": [
    "## Assignment Setup"
   ]
  },
  {
   "cell_type": "code",
   "execution_count": 45,
   "metadata": {},
   "outputs": [],
   "source": [
    "for d in ['orig/SPSS', 'orig/extra', 'orig/docs', 'data', 'app']: \n",
    "    os.makedirs(d, exist_ok=True)"
   ]
  },
  {
   "cell_type": "code",
   "execution_count": 46,
   "metadata": {},
   "outputs": [],
   "source": [
    "FILES = [\n",
    "    'docs/T23_User_Guide_International_Database.pdf',\n",
    "    'docs/T23_G8_Codebook.xlsx',\n",
    "    'extra/TIMSS_2023_National_Report_Ireland.pdf',\n",
    "    'T23_G8_-_01_-_Import.ipynb',\n",
    "] + [\n",
    "    f'SPSS/{f}irlm8.sav' for f in ['bcg','bsa','bsg','bsp','bsr','bst','btm','bts']\n",
    "]"
   ]
  },
  {
   "cell_type": "code",
   "execution_count": 47,
   "metadata": {},
   "outputs": [
    {
     "name": "stdout",
     "output_type": "stream",
     "text": [
      "Downloading remote file docs/T23_User_Guide_International_Database.pdf\n",
      "Downloading remote file docs/T23_G8_Codebook.xlsx\n",
      "Downloading remote file extra/TIMSS_2023_National_Report_Ireland.pdf\n",
      "Downloading remote file SPSS/bcgirlm8.sav\n",
      "Downloading remote file SPSS/bsairlm8.sav\n",
      "Downloading remote file SPSS/bsgirlm8.sav\n",
      "Downloading remote file SPSS/bspirlm8.sav\n",
      "Downloading remote file SPSS/bsrirlm8.sav\n",
      "Downloading remote file SPSS/bstirlm8.sav\n",
      "Downloading remote file SPSS/btmirlm8.sav\n",
      "Downloading remote file SPSS/btsirlm8.sav\n"
     ]
    }
   ],
   "source": [
    "for filename in FILES:\n",
    "    source = f\"https://setu-datamining2.github.io/live/resources/TIMSS/{filename}\"\n",
    "    target = f\"orig/{filename}\"\n",
    "    if not os.path.isfile(target):\n",
    "        print (f\"Downloading remote file {filename}\", sep=\"\")\n",
    "        import urllib.request\n",
    "        urllib.request.urlretrieve(source, target)\n",
    "    else:\n",
    "        print(f\"Using local copy of {filename}\")\n"
   ]
  },
  {
   "cell_type": "code",
   "execution_count": 48,
   "metadata": {},
   "outputs": [],
   "source": [
    "target = 'app/streamlit_app.py' \n",
    "content = \"\"\"\n",
    "import streamlit as st\n",
    "st.header('TIMSS Dataset Viewer')\n",
    "\n",
    "st.write('OK rest is up to you ...')\n",
    "\n",
    "\"\"\"\n",
    "\n",
    "if not os.path.isfile(target):\n",
    "    with open(target, 'wt') as f:\n",
    "        f.write(content)\n"
   ]
  },
  {
   "cell_type": "markdown",
   "metadata": {},
   "source": [
    "## Deliverable"
   ]
  },
  {
   "cell_type": "code",
   "execution_count": 49,
   "metadata": {},
   "outputs": [
    {
     "name": "stdout",
     "output_type": "stream",
     "text": [
      "Creating zip ...\n"
     ]
    }
   ],
   "source": [
    "target = f'TIMSS_Dashboard.zip'\n",
    "\n",
    "FILES_TO_UPLOAD = [\n",
    "    file for file in glob.iglob('T23_G8_-*.ipynb')\n",
    "] + [\n",
    "    file for file in glob.iglob('app/**',recursive=True) if '__pycache__' not in file\n",
    "]\n",
    "\n",
    "print(f\"Creating zip ...\")\n",
    "\n",
    "with ZipFile(target,'w') as zip:\n",
    "    for file in FILES_TO_UPLOAD:\n",
    "        zip.write(file) "
   ]
  },
  {
   "cell_type": "code",
   "execution_count": null,
   "metadata": {},
   "outputs": [],
   "source": []
  }
 ],
 "metadata": {
  "kernelspec": {
   "display_name": "Python 3",
   "language": "python",
   "name": "python3"
  },
  "language_info": {
   "codemirror_mode": {
    "name": "ipython",
    "version": 3
   },
   "file_extension": ".py",
   "mimetype": "text/x-python",
   "name": "python",
   "nbconvert_exporter": "python",
   "pygments_lexer": "ipython3",
   "version": "3.12.8"
  }
 },
 "nbformat": 4,
 "nbformat_minor": 2
}
