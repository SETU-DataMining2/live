{
 "cells": [
  {
   "cell_type": "markdown",
   "id": "3db78e0e-d947-493f-9bea-7b486935171e",
   "metadata": {},
   "source": [
    "# US Churn &mdash; Import"
   ]
  },
  {
   "cell_type": "markdown",
   "id": "0222c66a-98d8-4a52-ac9c-dae2f225dd30",
   "metadata": {},
   "source": [
    "## Setup"
   ]
  },
  {
   "cell_type": "code",
   "execution_count": null,
   "id": "59fdd448-0bbf-472a-8913-b83b4c609aee",
   "metadata": {},
   "outputs": [],
   "source": [
    "import pandas as pd\n",
    "import numpy as np\n",
    "import matplotlib.pyplot as plt\n",
    "import seaborn as sns\n",
    "\n",
    "from IPython.display import display, Markdown\n",
    "sns.set_style(\"darkgrid\")\n",
    "pd.set_option('display.max_columns', None)  \n",
    "\n",
    "import sys, os, yaml\n",
    "\n",
    "DATASET = \"US_Churn\"\n",
    "\n",
    "ROOT = \"./\"\n",
    "COLAB = 'google.colab' in sys.modules\n",
    "if COLAB:\n",
    "    ROOT = f\"/content/gdrive/MyDrive/datasets/{DATASET.replace(' ','_')}/\"\n",
    "    \n",
    "\n",
    "DEBUG = False\n",
    "SEED = 1612"
   ]
  },
  {
   "cell_type": "code",
   "execution_count": null,
   "id": "87839222-09c8-42ac-951b-b31483bb094a",
   "metadata": {},
   "outputs": [],
   "source": [
    "if COLAB:\n",
    "    from google.colab import drive\n",
    "    if not os.path.isdir(\"/content/gdrive\"):\n",
    "        drive.mount(\"/content/gdrive\")\n",
    "        d = \"/content/gdrive/MyDrive/datasets\"\n",
    "        if not os.path.isdir(d): os.makedirs(d)\n",
    "        if not os.path.isdir(ROOT): os.makedirs(ROOT)\n",
    "\n",
    "def makedirs(d):\n",
    "    if COLAB:\n",
    "        if not os.path.isdir(ROOT+d): os.makedirs(ROOT+d)\n",
    "    else:\n",
    "        if not os.path.isdir(ROOT+d): os.makedirs(ROOT+d, mode=0o777, exist_ok=True)\n",
    "\n",
    "for d in ['orig','data','output']: makedirs(d)"
   ]
  },
  {
   "cell_type": "markdown",
   "id": "816f946c-5174-42a0-9e15-ac65beec63e5",
   "metadata": {},
   "source": [
    "## Datasets"
   ]
  },
  {
   "cell_type": "code",
   "execution_count": null,
   "id": "1fc44b89-28c8-44da-9268-e29ba3363c96",
   "metadata": {},
   "outputs": [],
   "source": [
    "BASE_URL = \"https://SETU-DataMining2.github.io/live/resources/us_churn\"\n",
    "\n",
    "for filename in ['churn.csv',]:\n",
    "    source = f\"{BASE_URL}/{filename}\"\n",
    "    target = f\"{ROOT}/orig/{filename}\"\n",
    "\n",
    "    if not os.path.isfile(target):\n",
    "        print (f\"Downloading remote file {filename}\", sep=\"\")\n",
    "        import urllib.request\n",
    "        urllib.request.urlretrieve(source, target)\n",
    "    else:\n",
    "        print(f\"Using local copy of {filename}\")"
   ]
  },
  {
   "cell_type": "code",
   "execution_count": null,
   "id": "66523225-b28c-48ed-93d4-e5527f435d52",
   "metadata": {},
   "outputs": [],
   "source": [
    "df = pd.read_csv(f\"{ROOT}/orig/churn.csv\")\n",
    "print(df.shape)\n",
    "df.head()"
   ]
  },
  {
   "cell_type": "code",
   "execution_count": null,
   "id": "7a11eece-1d9b-4ec6-b353-5baf353e72cf",
   "metadata": {},
   "outputs": [],
   "source": [
    "df.info()"
   ]
  },
  {
   "cell_type": "markdown",
   "id": "b8721cd8-d2f2-4eb6-a6bf-229cd6df700e",
   "metadata": {},
   "source": [
    "Issues are:\n",
    "\n",
    " * Poor column names - spaces and punctation\n",
    " * Inconsistent labels for boolean columns - convert to categorical also\n",
    " * Need to encode target column  - convert to categorical also\n",
    " * `Area_Code` should be categorical (3 levels)\n",
    " * `State` should be categorical (51 levels) <- what should I do here? wait till EDA\n",
    " * Unique identifier column `Phone`"
   ]
  },
  {
   "cell_type": "code",
   "execution_count": null,
   "id": "9821b8db-46d8-4bbb-8ab0-fa0b274a96b7",
   "metadata": {},
   "outputs": [],
   "source": [
    "# Poor column names - spaces and punctuation\n",
    "df.columns = [c.replace(\" \", \"_\").replace(\"'\", \"\").replace(\"?\", \"\") for c in df.columns]"
   ]
  },
  {
   "cell_type": "code",
   "execution_count": null,
   "id": "f70be692-53ca-4e44-9e13-f3b444826d93",
   "metadata": {},
   "outputs": [],
   "source": [
    "# Inconsistent labels for boolean columns\n",
    "for c in [c for c in df.columns if \"Plan\" in c]:\n",
    "    if df[c].dtype ==\"object\":\n",
    "        df[c] = df[c].map( {\"no\":0, \"yes\":1} )\n",
    "        df[c] = pd.Categorical(df[c])"
   ]
  },
  {
   "cell_type": "code",
   "execution_count": null,
   "id": "c60ed5c7-0d85-40e6-ac0b-22923a75a5f2",
   "metadata": {},
   "outputs": [],
   "source": [
    "# Need to encode target column\n",
    "if df.Churn.dtype == \"object\":\n",
    "    df.Churn = df.Churn.map( {\"False.\":0, \"True.\":1} )\n",
    "    df.Churn = pd.Categorical(df.Churn)"
   ]
  },
  {
   "cell_type": "code",
   "execution_count": null,
   "id": "52446bc1-ac50-4b4b-b395-0bdb6bb3a0c9",
   "metadata": {},
   "outputs": [],
   "source": [
    "# Encode Area_Code column\n",
    "if 0 not in df.Area_Code.unique():\n",
    "    df.Area_Code = df.Area_Code.map( {415:0, 510:1,408:2 } )\n",
    "    df.Area_Code = pd.Categorical(df.Area_Code)"
   ]
  },
  {
   "cell_type": "code",
   "execution_count": null,
   "id": "ba28c1ae-d9a6-45d5-93df-d9dee44186cd",
   "metadata": {},
   "outputs": [],
   "source": [
    "if df.State.dtype == \"object\":\n",
    "    df.State = pd.Categorical(df.State)\n",
    "df.State.nunique()"
   ]
  },
  {
   "cell_type": "code",
   "execution_count": null,
   "id": "082e1ef0-3cc2-46c7-a541-ef12bfe14be2",
   "metadata": {},
   "outputs": [],
   "source": [
    "# Remove unwanted columns\n",
    "for c in [\"Phone\"]: \n",
    "    if c in df.columns: df.drop(c, axis='columns',inplace=True)"
   ]
  },
  {
   "cell_type": "markdown",
   "id": "ef43c401-a92e-4d13-b119-2c953d7461ab",
   "metadata": {},
   "source": [
    "## Save dataset"
   ]
  },
  {
   "cell_type": "code",
   "execution_count": null,
   "id": "fc05cd95-4dd7-48af-a628-abffbf97a727",
   "metadata": {},
   "outputs": [],
   "source": [
    "df.head()"
   ]
  },
  {
   "cell_type": "code",
   "execution_count": null,
   "id": "b7220ada-d5f5-44f7-b67a-192a06a5403d",
   "metadata": {},
   "outputs": [],
   "source": [
    "df.info()"
   ]
  },
  {
   "cell_type": "code",
   "execution_count": null,
   "id": "51f96c6f-19b5-4906-b615-8b05b54919f7",
   "metadata": {},
   "outputs": [],
   "source": [
    "df.to_feather(f\"{ROOT}/data/churn.feather\")"
   ]
  },
  {
   "cell_type": "code",
   "execution_count": null,
   "id": "a12ba151-4d0d-409f-ab7e-0732f8bd27d1",
   "metadata": {},
   "outputs": [],
   "source": []
  }
 ],
 "metadata": {
  "kernelspec": {
   "display_name": "Python 3 (ipykernel)",
   "language": "python",
   "name": "python3"
  },
  "language_info": {
   "codemirror_mode": {
    "name": "ipython",
    "version": 3
   },
   "file_extension": ".py",
   "mimetype": "text/x-python",
   "name": "python",
   "nbconvert_exporter": "python",
   "pygments_lexer": "ipython3",
   "version": "3.11.7"
  },
  "widgets": {
   "application/vnd.jupyter.widget-state+json": {
    "state": {},
    "version_major": 2,
    "version_minor": 0
   }
  }
 },
 "nbformat": 4,
 "nbformat_minor": 5
}
